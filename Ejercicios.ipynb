{
 "cells": [
  {
   "cell_type": "markdown",
   "metadata": {},
   "source": [
    "# Ejercicios\n",
    "## Clases\n",
    "### Ejercicio 10"
   ]
  },
  {
   "cell_type": "code",
   "execution_count": 1,
   "metadata": {},
   "outputs": [
    {
     "name": "stdout",
     "output_type": "stream",
     "text": [
      "8\n",
      "15\n"
     ]
    }
   ],
   "source": [
    "class Rectangulo:\n",
    "    def __init__(self, length, width):\n",
    "        self.length = length\n",
    "        self.width = width\n",
    "# áhgs\n",
    "    def area (self):\n",
    "        print(self.length * self.width)\n",
    "        \n",
    "Rectangulo1 = Rectangulo(2, 4)\n",
    "Rectangulo2 = Rectangulo(5, 3)\n",
    "\n",
    "Rectangulo1.area()\n",
    "Rectangulo2.area()"
   ]
  },
  {
   "cell_type": "markdown",
   "metadata": {},
   "source": [
    "### Ejercicio 11"
   ]
  },
  {
   "cell_type": "code",
   "execution_count": null,
   "metadata": {},
   "outputs": [],
   "source": [
    "import math"
   ]
  },
  {
   "cell_type": "code",
   "execution_count": null,
   "metadata": {},
   "outputs": [],
   "source": [
    "class Circulo:\n",
    "    def __init__(self, radio):\n",
    "        self.radio = radio\n",
    "        \n",
    "    def area(self):\n",
    "        print(math.pi * self.radio**2)\n",
    "    \n",
    "    def perimetro(self):\n",
    "        print(2 * math.pi * self.radio)\n",
    "    \n",
    "circulo1 = Circulo(8)\n",
    "circulo1.area()\n",
    "circulo1.perimetro()"
   ]
  },
  {
   "cell_type": "markdown",
   "metadata": {},
   "source": [
    "## Funciones\n",
    "### Ejercicio 1"
   ]
  },
  {
   "cell_type": "code",
   "execution_count": null,
   "metadata": {},
   "outputs": [],
   "source": [
    "def max3(n1, n2, n3):\n",
    "    if n1 > n2 > n3 or n1 > n3 > n2:\n",
    "        print(n1)\n",
    "    elif n2 > n1 >n3 or n2 > n3 > n1:\n",
    "        print(n2)\n",
    "    elif n3 > n1 > n2 or n3 > n2 > n1:\n",
    "        print(n3)\n",
    "\n",
    "max3(5, -9, 19)\n",
    "        "
   ]
  },
  {
   "cell_type": "markdown",
   "metadata": {},
   "source": [
    "### Ejercicio 2"
   ]
  },
  {
   "cell_type": "code",
   "execution_count": null,
   "metadata": {},
   "outputs": [],
   "source": [
    "def sum(lista):\n",
    "    suma = 0\n",
    "    for numero in lista:\n",
    "        suma += numero\n",
    "    print(suma)\n",
    "    \n",
    "sum((1, 5, 98, -32, 8 , -20))"
   ]
  },
  {
   "cell_type": "markdown",
   "metadata": {},
   "source": [
    "### Ejercicio 3"
   ]
  },
  {
   "cell_type": "code",
   "execution_count": null,
   "metadata": {},
   "outputs": [],
   "source": [
    "def mult(lista):\n",
    "    multiplicacion = 1\n",
    "    for numero in lista:\n",
    "        multiplicacion *= numero\n",
    "    print(multiplicacion)\n",
    "    \n",
    "mult((1, -4, 6, 9, -2))"
   ]
  },
  {
   "cell_type": "markdown",
   "metadata": {},
   "source": [
    "### Ejercicio 4"
   ]
  },
  {
   "cell_type": "code",
   "execution_count": null,
   "metadata": {},
   "outputs": [],
   "source": [
    "def reverse(string):\n",
    "    "
   ]
  }
 ],
 "metadata": {
  "kernelspec": {
   "display_name": "Python 3",
   "language": "python",
   "name": "python3"
  },
  "language_info": {
   "codemirror_mode": {
    "name": "ipython",
    "version": 3
   },
   "file_extension": ".py",
   "mimetype": "text/x-python",
   "name": "python",
   "nbconvert_exporter": "python",
   "pygments_lexer": "ipython3",
   "version": "3.7.3"
  }
 },
 "nbformat": 4,
 "nbformat_minor": 4
}
